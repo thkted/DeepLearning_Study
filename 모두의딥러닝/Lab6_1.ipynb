{
  "nbformat": 4,
  "nbformat_minor": 0,
  "metadata": {
    "colab": {
      "name": "Lab6_1.ipynb",
      "provenance": [],
      "collapsed_sections": [],
      "authorship_tag": "ABX9TyOlVTwvUlJ4Zxs+ZS/PA/NR",
      "include_colab_link": true
    },
    "kernelspec": {
      "name": "python3",
      "display_name": "Python 3"
    },
    "language_info": {
      "name": "python"
    },
    "accelerator": "GPU"
  },
  "cells": [
    {
      "cell_type": "markdown",
      "metadata": {
        "id": "view-in-github",
        "colab_type": "text"
      },
      "source": [
        "<a href=\"https://colab.research.google.com/github/thkted/DeepLearning_Study/blob/%EB%AA%A8%EB%91%90%EC%9D%98-%EB%94%A5%EB%9F%AC%EB%8B%9D/%EB%AA%A8%EB%91%90%EC%9D%98%EB%94%A5%EB%9F%AC%EB%8B%9D/Lab6_1.ipynb\" target=\"_parent\"><img src=\"https://colab.research.google.com/assets/colab-badge.svg\" alt=\"Open In Colab\"/></a>"
      ]
    },
    {
      "cell_type": "code",
      "metadata": {
        "id": "s4nEwNM-G9Ry"
      },
      "source": [
        "import gym\n",
        "import numpy as np\n",
        "import tensorflow as tf\n",
        "import matplotlib.pyplot as plt"
      ],
      "execution_count": 1,
      "outputs": []
    },
    {
      "cell_type": "code",
      "metadata": {
        "id": "n9JB0shhJi_i"
      },
      "source": [
        "def one_hot(x):\n",
        "  return np.identity(16)[x:x+1]"
      ],
      "execution_count": 2,
      "outputs": []
    },
    {
      "cell_type": "code",
      "metadata": {
        "id": "GNiaeA10HC6_"
      },
      "source": [
        "env = gym.make('FrozenLake-v0')"
      ],
      "execution_count": 3,
      "outputs": []
    },
    {
      "cell_type": "code",
      "metadata": {
        "id": "T-gN8vWwHGJ6"
      },
      "source": [
        "# Input and output size based on the Env\n",
        "input_size = env.observation_space.n\n",
        "output_size = env.action_space.n"
      ],
      "execution_count": 4,
      "outputs": []
    },
    {
      "cell_type": "code",
      "metadata": {
        "id": "ynXG0n3BJxvK"
      },
      "source": [
        "# HyperParameters\n",
        "dis = 0.99\n",
        "num_episodes = 2000\n",
        "lr = 0.1"
      ],
      "execution_count": 5,
      "outputs": []
    },
    {
      "cell_type": "code",
      "metadata": {
        "id": "kigiyDECHP51"
      },
      "source": [
        "# These lines establish the feed-forward part of the network used to choose actions\n",
        "X = tf.placeholder(shape=[1,input_size], dtype=tf.float32) # state input\n",
        "W = tf.Variable(tf.random_uniform([input_size, output_size], 0, 0.01)) # weight\n",
        "\n",
        "Qpred = tf.matmul(X, W)\n",
        "Y = tf.placeholder(shape=[1, output_size], dtype=tf.float32)\n",
        "\n",
        "loss = tf.reduce_sum(tf.square(Y - Qpred))\n",
        "train = tf.train.GradientDescentOptimizer(learning_rate=lr).minimize(loss)"
      ],
      "execution_count": 6,
      "outputs": []
    },
    {
      "cell_type": "code",
      "metadata": {
        "colab": {
          "base_uri": "https://localhost:8080/",
          "height": 283
        },
        "id": "pkAZ_TRQHgJO",
        "outputId": "8c8b9fdc-ce67-47d7-c7b3-7a9830b82ba7"
      },
      "source": [
        "# Create lists to contain total rewards and steps per episodes\n",
        "rList = []\n",
        "with tf.Session() as sess:\n",
        "  sess.run(tf.global_variables_initializer())\n",
        "\n",
        "  for i in range(num_episodes):\n",
        "    s = env.reset()\n",
        "    e = 1. / ((i / 50) + 10)\n",
        "    rAll = 0\n",
        "    done = False\n",
        "    local_host = []\n",
        "\n",
        "    while not done:\n",
        "      Qs = sess.run(Qpred, feed_dict={X: one_hot(s)})\n",
        "      if np.random.random(1) < e:\n",
        "        a = env.action_space.sample()\n",
        "      else:\n",
        "        a = np.argmax(Qs)\n",
        "      \n",
        "      s1, reward, done, _ = env.step(a)\n",
        "\n",
        "      if done:\n",
        "        Qs[0, a] = reward\n",
        "      else:\n",
        "        Qs1 = sess.run(Qpred, feed_dict={X: one_hot(s1)})\n",
        "        Qs[0, a] = reward + dis * np.max(Qs1) # target (y)\n",
        "      \n",
        "      sess.run(train, feed_dict={X: one_hot(s), Y: Qs})\n",
        "      rAll += reward\n",
        "      s = s1\n",
        "      rList.append(rAll)\n",
        "\n",
        "print('Percent of successful episodes: ' + str(sum(rList) / num_episodes) + '%')\n",
        "plt.bar(range(len(rList)), rList, color='blue')\n",
        "plt.show()\n",
        "\n"
      ],
      "execution_count": 8,
      "outputs": [
        {
          "output_type": "stream",
          "text": [
            "Percent of successful episodes: 0.4565%\n"
          ],
          "name": "stdout"
        },
        {
          "output_type": "display_data",
          "data": {
            "image/png": "[encoded data removed]",
            "text/plain": [
              "<Figure size 432x288 with 1 Axes>"
            ]
          },
          "metadata": {
            "tags": [],
            "needs_background": "light"
          }
        }
      ]
    },
    {
      "cell_type": "code",
      "metadata": {
        "id": "2ZO1lby1NJe8"
      },
      "source": [
        ""
      ],
      "execution_count": null,
      "outputs": []
    }
  ]
}
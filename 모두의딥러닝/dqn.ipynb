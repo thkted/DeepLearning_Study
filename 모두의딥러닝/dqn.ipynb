{
  "nbformat": 4,
  "nbformat_minor": 0,
  "metadata": {
    "colab": {
      "name": "dqn.ipynb",
      "provenance": [],
      "collapsed_sections": [],
      "mount_file_id": "1b5o11kL_Jfwsp3QeiSFtLlfmJ2xvwxSE",
      "authorship_tag": "ABX9TyM8UnAerRcYMTvOABUhK4Tp",
      "include_colab_link": true
    },
    "kernelspec": {
      "name": "python3",
      "display_name": "Python 3"
    },
    "language_info": {
      "name": "python"
    },
    "accelerator": "GPU"
  },
  "cells": [
    {
      "cell_type": "markdown",
      "metadata": {
        "id": "view-in-github",
        "colab_type": "text"
      },
      "source": [
        "<a href=\"https://colab.research.google.com/github/thkted/DeepLearning_Study/blob/%EB%AA%A8%EB%91%90%EC%9D%98-%EB%94%A5%EB%9F%AC%EB%8B%9D/%EB%AA%A8%EB%91%90%EC%9D%98%EB%94%A5%EB%9F%AC%EB%8B%9D/dqn.ipynb\" target=\"_parent\"><img src=\"https://colab.research.google.com/assets/colab-badge.svg\" alt=\"Open In Colab\"/></a>"
      ]
    },
    {
      "cell_type": "markdown",
      "metadata": {
        "id": "Mw-rU-47hBaj"
      },
      "source": [
        "# The CartPole game with DQN (NIPS 2013)"
      ]
    },
    {
      "cell_type": "code",
      "metadata": {
        "id": "vh7Uw8RgwMzg"
      },
      "source": [
        "!pip uninstall tensorflow\n",
        "!pip install tensorflow==1.15"
      ],
      "execution_count": null,
      "outputs": []
    },
    {
      "cell_type": "code",
      "metadata": {
        "id": "7TkUgq0HghIH"
      },
      "source": [
        "import numpy as np\n",
        "import tensorflow as tf"
      ],
      "execution_count": null,
      "outputs": []
    },
    {
      "cell_type": "code",
      "metadata": {
        "id": "sudhB-mupDdk"
      },
      "source": [
        "class DQN:\n",
        "  def __init__(self, session, input_size, output_size, name='main'):\n",
        "    self.sesstion = session\n",
        "    self.input_size = input_size\n",
        "    self.output_size = output_size\n",
        "    self.net_name = name\n",
        "\n",
        "    self.build_network()\n",
        "  \n",
        "  def build_network(self, h_size=10, l_rate=1e-1):\n",
        "    with tf.variable_scope(self.net_name):\n",
        "      self.X = tf.placeholder(\n",
        "          tf.float32, [None, self.input_size], name = 'input_x')\n",
        "\n",
        "      W1 = tf.get_variable('W1', shape=[self.input_size, h_size],\n",
        "                           initializer=tf.contrib.layers.xavier_initializer())\n",
        "      \n",
        "      layer1 = tf.nn.tanh(tf.matmul(X,W1))\n",
        "\n",
        "      W2 = tf.get_variable('W1', shape=[h_size, self.output_size],\n",
        "                           initializer=tf.contrib.layers.xavier_initializer())\n",
        "\n",
        "      self.Qpred = tf.matmul(layer1, W2)\n",
        "\n",
        "    self.Y = tf.placeholder(\n",
        "        shape=[None, self.output_size], dtype=tf.float32)\n",
        "    \n",
        "    self.loss = tf.reduce_mean(tf.square(self.Y - self.Qpred))\n",
        "\n",
        "    self.train = tf.train.AdamOptimizer(\n",
        "        learning_rate = l_rate).minimizer(self.loss)\n",
        "      \n",
        "  \n",
        "  def predict(self, state):\n",
        "    x = np.reshape(state, [1, self.input_size])\n",
        "    return self.session.run(self.Qpred, feed_dict={X:x})\n",
        "  \n",
        "  def update(self, x_stack, y_stack):\n",
        "    return self.session.run([self.loss, self.train], feed_dict={\n",
        "        self.X:x_stack, self.Y:y_stack})\n"
      ],
      "execution_count": null,
      "outputs": []
    }
  ]
}